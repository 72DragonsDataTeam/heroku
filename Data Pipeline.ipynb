{
 "cells": [
  {
   "cell_type": "code",
   "execution_count": 1,
   "metadata": {},
   "outputs": [
    {
     "data": {
      "text/html": [
       "        <script type=\"text/javascript\">\n",
       "        window.PlotlyConfig = {MathJaxConfig: 'local'};\n",
       "        if (window.MathJax) {MathJax.Hub.Config({SVG: {font: \"STIX-Web\"}});}\n",
       "        if (typeof require !== 'undefined') {\n",
       "        require.undef(\"plotly\");\n",
       "        requirejs.config({\n",
       "            paths: {\n",
       "                'plotly': ['https://cdn.plot.ly/plotly-latest.min']\n",
       "            }\n",
       "        });\n",
       "        require(['plotly'], function(Plotly) {\n",
       "            window._Plotly = Plotly;\n",
       "        });\n",
       "        }\n",
       "        </script>\n",
       "        "
      ]
     },
     "metadata": {},
     "output_type": "display_data"
    }
   ],
   "source": [
    "import pandas as pd\n",
    "import numpy as np\n",
    "import plotly\n",
    "import plotly.graph_objs as go\n",
    "from plotly.offline import init_notebook_mode, plot, iplot\n",
    "import plotly.figure_factory as ff\n",
    "init_notebook_mode(connected=True)"
   ]
  },
  {
   "cell_type": "code",
   "execution_count": 2,
   "metadata": {},
   "outputs": [],
   "source": [
    "import requests\n",
    "from bs4 import BeautifulSoup\n",
    "import re\n",
    "from pandas.io.json import json_normalize\n",
    "import json\n",
    "import dash\n",
    "import dash_core_components as dcc\n",
    "import dash_html_components as html\n",
    "from dash.dependencies import Input, Output\n",
    "import dash_table"
   ]
  },
  {
   "cell_type": "code",
   "execution_count": 3,
   "metadata": {},
   "outputs": [],
   "source": [
    "def get_page(url):\n",
    "    response = requests.get(url)    #make the HTTP requests\n",
    "    try:\n",
    "        if response.status_code == 200:  #code 200 indicates a successful request\n",
    "            return response              #return the response content\n",
    "        else:\n",
    "            return None\n",
    "    except RequestException as e:       #if the request is not successful, print out the exceptions content\n",
    "        print('Requests Failed: '+str(e))"
   ]
  },
  {
   "cell_type": "code",
   "execution_count": 4,
   "metadata": {},
   "outputs": [],
   "source": [
    "def webscrapping(link, meta, year):\n",
    "    dataset = pd.DataFrame(columns = meta)\n",
    "    page = get_page(link)\n",
    "    if page is not None:\n",
    "        soup = BeautifulSoup(page.text,'lxml')\n",
    "        df = soup.find('div',attrs={'class':'article'})\n",
    "        films = df.find_all('script')\n",
    "        text = re.findall('(\\{\\\"awards\\\".*?)\\,\\\"alwaysDisplayAwardNames\\\"',films[1].text)\n",
    "        data = json.loads(text[0])['awards']\n",
    "\n",
    "        for i in range(len(data)):\n",
    "            newdata = json_normalize(data[i]['categories'],record_path='nominations')\n",
    "            newdf = pd.DataFrame.from_dict(newdata)\n",
    "            newdf.insert(0,'nconst','')\n",
    "            newdf.insert(0,'tconst','')\n",
    "            for j in newdf.index:\n",
    "                if len(newdf.loc[j,'primaryNominees'])>0:\n",
    "                    newdf.loc[j,'tconst']= newdf.loc[j,'primaryNominees'][0]['const']\n",
    "                    newdf.loc[j,'primaryNominees'] = newdf.loc[j,'primaryNominees'][0]['name']\n",
    "                if len(newdf.loc[j,'secondaryNominees'])>0:\n",
    "                    newdf.loc[j,'nconst']= newdf.loc[j,'secondaryNominees'][0]['const']\n",
    "                    newdf.loc[j,'secondaryNominees'] = newdf.loc[j,'secondaryNominees'][0]['name']\n",
    "            newdf.insert(0,'Year',[year]*len(newdf))\n",
    "            newdf = newdf[meta]\n",
    "            dataset = dataset.append(newdf)\n",
    "    \n",
    "    return dataset"
   ]
  },
  {
   "cell_type": "code",
   "execution_count": 5,
   "metadata": {},
   "outputs": [],
   "source": [
    "def newFeature(df, fName):\n",
    "    copy = df.copy()\n",
    "    names = []\n",
    "\n",
    "    for i in copy.index:\n",
    "        if copy.loc[i,'awardName'] not in fName:\n",
    "            film = copy.loc[i,'tconst']\n",
    "            if len(copy[copy['tconst']==film])>1:\n",
    "                if df.loc[i,'isWinner']==True:\n",
    "                    names.append(film)\n",
    "                df.drop(i,axis=0,inplace=True)\n",
    "            else:\n",
    "                df.loc[i,'isWinner']=False\n",
    "                df.loc[i,'otherAwards']=True\n",
    "\n",
    "    for i in df.index:\n",
    "        if df.loc[i,'tconst'] in names:\n",
    "            df.loc[i,'otherAwards'] = True\n",
    "            \n",
    "    return df"
   ]
  },
  {
   "cell_type": "code",
   "execution_count": 6,
   "metadata": {},
   "outputs": [],
   "source": [
    "def ManualGenreFix(dataset,index,newgenre):\n",
    "    dataset.loc[index,'Genre1']=newgenre\n",
    "\n",
    "def checkDuplicates(dataset,bigAward):\n",
    "    dataset.insert(4,'otherAwards',False)\n",
    "    major = []\n",
    "    other = []\n",
    "    for i in dataset.index:\n",
    "        if dataset.loc[i,'isWinner']==True:\n",
    "            if dataset.loc[i,'awardName'] in bigAward:\n",
    "                major.append(dataset.loc[i,'tconst'])\n",
    "            else:\n",
    "                other.append(dataset.loc[i,'tconst'])\n",
    "    dataset.set_index('tconst',inplace=True)\n",
    "    newdata = dataset[dataset.index.duplicated(keep='first')==False]\n",
    "    for i in major:\n",
    "        newdata.loc[i,'isWinner']=True\n",
    "    for i in other:\n",
    "        newdata.loc[i,'otherAwards']=True   \n",
    "    return newdata"
   ]
  },
  {
   "cell_type": "code",
   "execution_count": 7,
   "metadata": {},
   "outputs": [],
   "source": [
    "def update_dataset(dataset,others):\n",
    "    dataset = dataset.copy()\n",
    "    feature = 'Genre1'\n",
    "    \n",
    "    for i in dataset.index:\n",
    "        if dataset.loc[i,feature] in others:\n",
    "            dataset.loc[i,feature] = 'Others'\n",
    "    return dataset\n",
    "\n",
    "def update_dataset_new(dataset,fdata,festival,otherGenre):\n",
    "    newdata = dataset.copy()\n",
    "    newdata['Genre_'+festival]=''\n",
    "    year = fdata.Year.min()-1\n",
    "    for i in newdata.index:\n",
    "        if newdata.loc[i,'releaseYear']>year and i not in fdata.index:\n",
    "            if newdata.loc[i,'Genre1'] in fdata['Genre1'].unique():\n",
    "                newdata.loc[i,'Genre_'+festival] = newdata.loc[i,'Genre1']\n",
    "            elif newdata.loc[i,'Genre1'] in otherGenre[festival]:\n",
    "                newdata.loc[i,'Genre_'+festival] = 'Others'\n",
    "    return newdata"
   ]
  },
  {
   "cell_type": "code",
   "execution_count": 8,
   "metadata": {},
   "outputs": [],
   "source": [
    "def splitDataset(file,genre):\n",
    "    s = file[file['Genre1']==genre]\n",
    "    swinner = s[(s['isWinner']==True) | (s['otherAwards']==True)]\n",
    "    sloser = s[(s['isWinner']==False) & (s['otherAwards']==False)]\n",
    "    return s, swinner, sloser"
   ]
  },
  {
   "cell_type": "code",
   "execution_count": 9,
   "metadata": {},
   "outputs": [],
   "source": [
    "def contenders(file,contenders):\n",
    "    newfile = file.copy()\n",
    "    indexes = [i for i in newfile.index if i not in contenders.index]\n",
    "    newfile.drop(indexes,axis=0,inplace=True)\n",
    "    return newfile"
   ]
  },
  {
   "cell_type": "code",
   "execution_count": 10,
   "metadata": {},
   "outputs": [],
   "source": [
    "def outliers(file,feature):\n",
    "    Q1 = file[feature].quantile(0.25)\n",
    "    Q3 = file[feature].quantile(0.75)\n",
    "    IQR = Q3-Q1\n",
    "    outlier = file[(file[feature]>Q3+1.5*IQR)&(file[feature]<Q1-1.5*IQR)]\n",
    "    removed = file[(file[feature]<=Q3+1.5*IQR)&(file[feature]>=Q1-1.5*IQR)]\n",
    "    return outlier,removed"
   ]
  },
  {
   "cell_type": "code",
   "execution_count": 11,
   "metadata": {},
   "outputs": [],
   "source": [
    "def permutation(file1,file2,feature):\n",
    "    n1 = len(file1)\n",
    "    observed = file1[feature].mean() - file2[feature].mean()\n",
    "    samples = file1.append(file2)[feature]\n",
    "\n",
    "    rand_mean_diffs = []\n",
    "    for i in range(10000):\n",
    "        permuted = np.random.permutation(samples)\n",
    "        rand_mean1 = permuted[:n1].mean()\n",
    "        rand_mean2 = permuted[n1:].mean()\n",
    "        rand_mean_diffs.append(rand_mean1-rand_mean2)\n",
    "    \n",
    "    if observed>0:\n",
    "        p_value = sum(np.array(rand_mean_diffs)>=observed)/len(rand_mean_diffs)\n",
    "    else:\n",
    "        p_value = sum(np.array(rand_mean_diffs)<=observed)/len(rand_mean_diffs)\n",
    "\n",
    "    return p_value"
   ]
  },
  {
   "cell_type": "code",
   "execution_count": 12,
   "metadata": {},
   "outputs": [],
   "source": [
    "def cal_mean(dataset,feature,r=0):\n",
    "    mean = round(np.nanmean(dataset[feature]),r)\n",
    "    return mean\n",
    "\n",
    "def to_dollar(num):\n",
    "    if np.isnan(num)==False:\n",
    "        dollar = '$'+format(int(num),',d')\n",
    "    else:\n",
    "        dollar = 'N/A'\n",
    "    return dollar\n",
    "\n",
    "def cal_change(data1,data2):\n",
    "    percent = round(((data1-data2)/data2)*100,2)\n",
    "    if np.isnan(percent)==False:\n",
    "        percent = '{:.6}%'.format(percent)\n",
    "    else:\n",
    "        percent = 'N/A'\n",
    "    return percent"
   ]
  },
  {
   "cell_type": "code",
   "execution_count": 13,
   "metadata": {},
   "outputs": [],
   "source": [
    "def calculation(dataset,festival_name,options,newbo):\n",
    "    boxoffice = {}\n",
    "    percent = {}\n",
    "    pvalue = {}\n",
    "    for genre in options:\n",
    "        s, s_winner, s_loser = splitDataset(dataset,genre)\n",
    "        allfilm = newbo[newbo['Genre_'+festival_name]==genre]          \n",
    "        \n",
    "        feature = 'AdjustedTotalGross'\n",
    "        allfilm_outlier, allfilm_new = outliers(allfilm,feature)\n",
    "        s_outlier, s_new = outliers(s,feature)\n",
    "        s_winner_new = contenders(s_winner,s_new)\n",
    "        s_loser_new = contenders(s_loser,s_new)\n",
    "\n",
    "        allmean = cal_mean(allfilm_new,feature)\n",
    "        smean = cal_mean(s_new,feature)\n",
    "        slmean = cal_mean(s_loser_new,feature)\n",
    "        swmean = cal_mean(s_winner_new,feature)\n",
    "        \n",
    "        pvalue1 = permutation(s_new,allfilm_new,feature)\n",
    "        pvalue2 = permutation(s_winner_new,allfilm_new,feature)\n",
    "        pvalue3 = permutation(s_loser_new,allfilm_new,feature)\n",
    "        \n",
    "        boxoffice[genre]=[to_dollar(allmean),to_dollar(smean),to_dollar(slmean),to_dollar(swmean)]\n",
    "        percent[genre]=[cal_change(smean,allmean),cal_change(slmean,allmean),cal_change(swmean,allmean)]\n",
    "        pvalue1 = pvalue1 if percent[genre][0] != 'N/A' else 'N/A'\n",
    "        pvalue2 = pvalue2 if percent[genre][2] != 'N/A' else 'N/A'\n",
    "        pvalue3 = pvalue3 if percent[genre][1] != 'N/A' else 'N/A'\n",
    "        pvalue[genre]=[pvalue1,pvalue3,pvalue2]\n",
    "        \n",
    "    dic = {}\n",
    "    dic['boxoffice']= boxoffice\n",
    "    dic['percent']= percent\n",
    "    dic['pvalue']= pvalue\n",
    "    \n",
    "    neg_sigs=[]\n",
    "    pos_sigs=[]\n",
    "    columnid = ['contendersdiff','losersdiff','winnersdiff']\n",
    "    percentvalues = list(percent.values())\n",
    "    values = list(pvalue.values())\n",
    "    for i in range(len(pvalue)):\n",
    "        for j in range(3):\n",
    "            if values[i][j] != 'N/A' and values[i][j]<0.05:\n",
    "                if '-' in percentvalues[i][j]:\n",
    "                    neg_sigs.append([i,columnid[j]])\n",
    "                else:\n",
    "                    pos_sigs.append([i,columnid[j]])\n",
    "    dic['pos_sigs']=pos_sigs\n",
    "    dic['neg_sigs']=neg_sigs\n",
    "\n",
    "    return dic"
   ]
  },
  {
   "cell_type": "code",
   "execution_count": 14,
   "metadata": {},
   "outputs": [],
   "source": [
    "def addSigs(json_path):\n",
    "    with open(json_path,'r') as json_file:\n",
    "        combine = json.load(json_file)\n",
    "    for festival in combine:\n",
    "        neg_sigs=[]\n",
    "        pos_sigs=[]\n",
    "        columnid = ['contendersdiff','losersdiff','winnersdiff']\n",
    "        percent = combine[festival]['percent']\n",
    "        pvalue = combine[festival]['pvalue']\n",
    "        values = list(pvalue.values())\n",
    "        percentvalues = list(percent.values())\n",
    "        for i in range(len(values)):\n",
    "            for j in range(3):\n",
    "                if values[i][j]<0.05:\n",
    "                    if '-' in percentvalues[i][j]:\n",
    "                        neg_sigs.append([i,columnid[j]])\n",
    "                    else:\n",
    "                        pos_sigs.append([i,columnid[j]])\n",
    "        combine[festival]['pos_sigs']=pos_sigs\n",
    "        combine[festival]['neg_sigs']=neg_sigs\n",
    "    with open(json_path,'w') as outfile:\n",
    "        json.dump(combine,outfile)\n",
    "    return combine"
   ]
  },
  {
   "cell_type": "code",
   "execution_count": 15,
   "metadata": {},
   "outputs": [],
   "source": [
    "def updateJSON(json_path,newdata,name):\n",
    "    with open(json_path,'r') as json_file:\n",
    "        newjson = json.load(json_file)\n",
    "    newjson[name]=newdata\n",
    "    with open(json_path,'w') as outfile:\n",
    "        json.dump(newjson,outfile)\n",
    "    return newjson"
   ]
  },
  {
   "cell_type": "code",
   "execution_count": 16,
   "metadata": {},
   "outputs": [],
   "source": [
    "def updateCombineData(table,name):\n",
    "    with open('combinedata.json','r') as json_file:\n",
    "        combine = json.load(json_file)\n",
    "    \n",
    "    c = generate_json(table,table.shape[0])\n",
    "    combine[name] = c\n",
    "    \n",
    "    with open('combinedata.json', 'w') as outfile:\n",
    "        json.dump(combine, outfile)"
   ]
  },
  {
   "cell_type": "code",
   "execution_count": 17,
   "metadata": {},
   "outputs": [],
   "source": [
    "def preprocess(dataset,otherGenre,name):\n",
    "    try:\n",
    "        dataset.drop('Unnamed: 0',axis=1,inplace=True)\n",
    "        dataset.to_csv(url,encoding='utf-8',index=True)\n",
    "    except:\n",
    "        pass\n",
    "    dataset = update_dataset(dataset,otherGenre[name])\n",
    "    dataset.to_csv(name+'_updated_new.csv',encoding='utf-8',index=True)\n",
    "    newbo = pd.read_csv('filmDataset_forDashBoard.csv',index_col='tconst')\n",
    "    newbo = update_dataset_new(newbo,dataset,name,otherGenre)\n",
    "    newbo.to_csv('filmDataset_forDashBoard.csv',encoding='utf-8',index=True)\n",
    "    dataset = dataset[['Year', 'awardName', 'categoryName', 'isWinner', 'otherAwards','primaryNominees', 'nconst', \n",
    "                       'secondaryNominees','Name', 'releaseYear','Genre1','AdjustedTotalGross']]\n",
    "    dataset.to_csv(name+'_data.csv',encoding='utf-8',index=True)\n",
    "    return dataset, newbo"
   ]
  },
  {
   "cell_type": "code",
   "execution_count": 18,
   "metadata": {},
   "outputs": [],
   "source": [
    "def generate_json(dataset,n):\n",
    "    b = {}\n",
    "    pe = {}\n",
    "    pv = {}\n",
    "\n",
    "    for i in range(1,n):\n",
    "        b[dataset.iloc[i,0]] = [to_dollar(i) for i in dataset.iloc[i,[1,2,5,8]]]\n",
    "        pe[dataset.iloc[i,0]] = [i for i in dataset.iloc[i,[3,6,9]]]\n",
    "        pv[dataset.iloc[i,0]] = [float(i) for i in dataset.iloc[i,[4,7,10]]]\n",
    "\n",
    "    c = {}\n",
    "    c['boxoffice'] = b\n",
    "    c['percent'] = pe\n",
    "    c['pvalue'] = pv\n",
    "    \n",
    "    neg_sigs=[]\n",
    "    pos_sigs=[]\n",
    "    columnid = ['contendersdiff','losersdiff','winnersdiff']\n",
    "    values = list(pv.values())\n",
    "    percentvalues = list(pe.values())\n",
    "    for i in range(len(values)):\n",
    "        for j in range(3):\n",
    "            if values[i][j] != 'N/A' and values[i][j] <0.05:\n",
    "                if '-' in percentvalues[i][j]:\n",
    "                    neg_sigs.append([i,columnid[j]])\n",
    "                else:\n",
    "                    pos_sigs.append([i,columnid[j]])\n",
    "    c['pos_sigs']=pos_sigs\n",
    "    c['neg_sigs']=neg_sigs\n",
    "    return c"
   ]
  },
  {
   "cell_type": "code",
   "execution_count": 19,
   "metadata": {},
   "outputs": [],
   "source": [
    "def scraper_preprocess_pipeline(event_url,festival_name,start_year,end_year,big_award):\n",
    "    #scraper\n",
    "    meta=['Year','awardName','categoryName','isWinner','tconst','primaryNominees','nconst','secondaryNominees']\n",
    "    nominees = pd.DataFrame(columns=meta)\n",
    "\n",
    "    for i in range(start_year,end_year):\n",
    "        link = 'https://www.imdb.com/event/'+event_url+str(i)+'/1/?ref_=ev_eh'\n",
    "        nominees = nominees.append(webscrapping(link, meta, i))\n",
    "    nominees.to_csv(festival_name+'FestivalNominees.csv', encoding='utf-8', index=False)\n",
    "    \n",
    "    #preprocessing\n",
    "    newboxoffice = pd.read_csv('films_dataset.csv')\n",
    "    dataset = pd.merge(nominees,newboxoffice,on='tconst')\n",
    "    dataset['Genre1'].fillna(value='Unknown',inplace=True)\n",
    "    dataset.to_csv(festival_name+'NomineesBoxOffice_updated.csv',encoding='utf-8', index=True)\n",
    "    \n",
    "    dataset = checkDuplicates(dataset,big_award)\n",
    "    \n",
    "    #process\n",
    "    options = list(dataset.Genre1.value_counts()[dataset.Genre1.value_counts()>50].index)\n",
    "    if len(options)<2:\n",
    "        if festival_name=='Rio':\n",
    "            options = list(dataset.Genre1.value_counts().index)[:1]\n",
    "        else:\n",
    "            options = list(dataset.Genre1.value_counts().index)[:2]\n",
    "        print('data too small for each genre in '+festival_name)\n",
    "    options = options+['Others']\n",
    "    all_options = updateJSON('allOptions.json',options,festival_name)\n",
    "    others = [i for i in list(dataset.Genre1.unique()) if i not in options]\n",
    "    otherGenre = updateJSON('otherGenre.json',others,festival_name)\n",
    "    dataset, newbo = preprocess(dataset,otherGenre,festival_name)\n",
    "    statics = calculation(dataset,festival_name,options,newbo)\n",
    "    combine = updateJSON('combinedata.json',statics,festival_name)"
   ]
  },
  {
   "cell_type": "code",
   "execution_count": 20,
   "metadata": {},
   "outputs": [],
   "source": [
    "def pipeline(dataset_path, table_path, festival_name):\n",
    "    table = pd.read_csv(table_path,index_col=False)\n",
    "    n = table.shape[0]\n",
    "    dataset = pd.read_csv(dataset_path,index_col='tconst')\n",
    "    options = list(table.Genre)[1:]\n",
    "    others = [i for i in list(dataset.Genre1.unique()) if i not in options] \n",
    "    all_options = updateJSON('allOptions.json',options,festival_name)\n",
    "    otherGenre = updateJSON('otherGenre.json',others,festival_name)\n",
    "    updateCombineData(table,festival_name)\n",
    "    preprocess(dataset,otherGenre,festival_name)"
   ]
  },
  {
   "cell_type": "code",
   "execution_count": null,
   "metadata": {},
   "outputs": [],
   "source": [
    "pipeline('locarno_boxoffice.csv','locarno_table.csv','Locarno')\n",
    "pipeline('sitges_boxoffice.csv','sitges_table.csv','Sitges')"
   ]
  },
  {
   "cell_type": "code",
   "execution_count": 74,
   "metadata": {},
   "outputs": [
    {
     "name": "stdout",
     "output_type": "stream",
     "text": [
      "data too small for each genre in Rotterdam\n",
      "data too small for each genre in SanFrancisco\n",
      "data too small for each genre in Slamdance\n",
      "data too small for each genre in HongKong\n",
      "data too small for each genre in Austin\n",
      "data too small for each genre in Torino\n",
      "data too small for each genre in Marrakech\n"
     ]
    }
   ],
   "source": [
    "#Sundance\n",
    "scraper_preprocess_pipeline('ev0000631/','Sundance',1982,2020,['Grand Jury Prize'])\n",
    "\n",
    "#Tribeca\n",
    "scraper_preprocess_pipeline('ev0000894/','Tribeca',2002,2020,['Jury Award'])\n",
    "\n",
    "#Berlin\n",
    "scraper_preprocess_pipeline('ev0000091/','Berlin',1951,2020,['Golden Berlin Bear'])\n",
    "\n",
    "#Chicago\n",
    "scraper_preprocess_pipeline('ev0000165/','Chicago',1965,2019,['Gold Hugo'])\n",
    "\n",
    "#Rotterdam\n",
    "scraper_preprocess_pipeline('ev0000569/','Rotterdam',1978,2020,['Tiger Award'])\n",
    "\n",
    "#Venice\n",
    "scraper_preprocess_pipeline('ev0000681/','Venice',1932,2019,['Golden Lion'])\n",
    "\n",
    "#Seattle\n",
    "scraper_preprocess_pipeline('ev0000600/','Seattle',1985,2020,['Golden Space Needle Award'])\n",
    "\n",
    "#San Francisco\n",
    "scraper_preprocess_pipeline('ev0000584/','SanFrancisco',1957,2020,['Golden Gate Award'])\n",
    "\n",
    "#Slamdance\n",
    "scraper_preprocess_pipeline('ev0000612/','Slamdance',1996,2020,['Grand Jury Prize'])\n",
    "\n",
    "#Locarno\n",
    "scraper_preprocess_pipeline('ev0000400/','Locarno',1946,2020,['Golden Leopard'])\n",
    "\n",
    "#Sitges\n",
    "scraper_preprocess_pipeline('ev0000155/','Sitges',1971,2019,['Best Film'])\n",
    "\n",
    "#Toronto\n",
    "scraper_preprocess_pipeline('ev0000659/','Toronto',1978,2019,[\"People's Choice Award\"])\n",
    "\n",
    "#KarlovyVary\n",
    "scraper_preprocess_pipeline('ev0000384/','KarlovyVary',1948,2020,['Crystal Globe'])\n",
    "\n",
    "#HongKong\n",
    "scraper_preprocess_pipeline('ev0000331/','HongKong',1998,2020,['Golden Firebird Award'])\n",
    "\n",
    "#Austin\n",
    "scraper_preprocess_pipeline('ev0000057/','Austin',1995,2019,['Feature Film Award'])\n",
    "\n",
    "#Torino\n",
    "scraper_preprocess_pipeline('ev0003555/','Torino',1997,2019,['Prize of the City of Torino'])\n",
    "\n",
    "#Marrakech\n",
    "scraper_preprocess_pipeline('ev0000874/','Marrakech',2001,2019,['Golden Star'])"
   ]
  },
  {
   "cell_type": "code",
   "execution_count": 72,
   "metadata": {},
   "outputs": [],
   "source": [
    "#Tokyo\n",
    "scraper_preprocess_pipeline('ev0000655/','Tokyo',1985,2019,['Tokyo Grand Prix'])"
   ]
  },
  {
   "cell_type": "code",
   "execution_count": 67,
   "metadata": {},
   "outputs": [],
   "source": [
    "#GoldenHorse\n",
    "scraper_preprocess_pipeline('ev0000293/','GoldenHorse',1962,2019,['Golden Horse Award'])"
   ]
  },
  {
   "cell_type": "code",
   "execution_count": 68,
   "metadata": {},
   "outputs": [
    {
     "name": "stdout",
     "output_type": "stream",
     "text": [
      "data too small for each genre in BuenosAires\n"
     ]
    }
   ],
   "source": [
    "#BuenosAires\n",
    "scraper_preprocess_pipeline('ev0000138/','BuenosAires',1999,2020,['Best Film'])"
   ]
  },
  {
   "cell_type": "code",
   "execution_count": 69,
   "metadata": {},
   "outputs": [
    {
     "name": "stdout",
     "output_type": "stream",
     "text": [
      "data too small for each genre in Gramado\n"
     ]
    }
   ],
   "source": [
    "#Gramado\n",
    "scraper_preprocess_pipeline('ev0000300/','Gramado',1973,2020,['Golden Kikito'])"
   ]
  },
  {
   "cell_type": "code",
   "execution_count": 75,
   "metadata": {},
   "outputs": [
    {
     "name": "stdout",
     "output_type": "stream",
     "text": [
      "data too small for each genre in Cairo\n"
     ]
    }
   ],
   "source": [
    "#Cairo\n",
    "scraper_preprocess_pipeline('ev0000141/','Cairo',1977,2019,['Golden Pyramid'])"
   ]
  },
  {
   "cell_type": "code",
   "execution_count": 71,
   "metadata": {},
   "outputs": [
    {
     "name": "stdout",
     "output_type": "stream",
     "text": [
      "data too small for each genre in Havana\n"
     ]
    }
   ],
   "source": [
    "#Havana\n",
    "scraper_preprocess_pipeline('ev0000314/','Havana',1979,2019,['Grand Coral - First Prize'])"
   ]
  },
  {
   "cell_type": "code",
   "execution_count": 98,
   "metadata": {},
   "outputs": [
    {
     "name": "stdout",
     "output_type": "stream",
     "text": [
      "data too small for each genre in Rio\n"
     ]
    }
   ],
   "source": [
    "#Rio\n",
    "scraper_preprocess_pipeline('ev0001488/','Rio',1999,2019,['Première Brazil'])"
   ]
  },
  {
   "cell_type": "code",
   "execution_count": 96,
   "metadata": {},
   "outputs": [],
   "source": [
    "#SaoPaulo\n",
    "scraper_preprocess_pipeline('ev0000638/','SaoPaulo',1977,2019,['Audience Award'])"
   ]
  },
  {
   "cell_type": "code",
   "execution_count": 23,
   "metadata": {},
   "outputs": [
    {
     "name": "stdout",
     "output_type": "stream",
     "text": [
      "data too small for each genre in AsiaPacific\n"
     ]
    },
    {
     "name": "stderr",
     "output_type": "stream",
     "text": [
      "/anaconda3/lib/python3.7/site-packages/pandas/core/frame.py:6692: FutureWarning:\n",
      "\n",
      "Sorting because non-concatenation axis is not aligned. A future version\n",
      "of pandas will change to not sort by default.\n",
      "\n",
      "To accept the future behavior, pass 'sort=False'.\n",
      "\n",
      "To retain the current behavior and silence the warning, pass 'sort=True'.\n",
      "\n",
      "\n"
     ]
    }
   ],
   "source": [
    "#Asia-Pacific\n",
    "scraper_preprocess_pipeline('ev0000045/','AsiaPacific',1954,2019,['APFF Award'])"
   ]
  },
  {
   "cell_type": "code",
   "execution_count": 24,
   "metadata": {},
   "outputs": [
    {
     "name": "stdout",
     "output_type": "stream",
     "text": [
      "data too small for each genre in India\n"
     ]
    }
   ],
   "source": [
    "#India\n",
    "scraper_preprocess_pipeline('ev0001480/','India',1987,2019,['Golden Peacock'])"
   ]
  },
  {
   "cell_type": "code",
   "execution_count": 28,
   "metadata": {},
   "outputs": [
    {
     "name": "stdout",
     "output_type": "stream",
     "text": [
      "data too small for each genre in Sydney\n"
     ]
    },
    {
     "name": "stderr",
     "output_type": "stream",
     "text": [
      "/anaconda3/lib/python3.7/site-packages/pandas/core/frame.py:6692: FutureWarning:\n",
      "\n",
      "Sorting because non-concatenation axis is not aligned. A future version\n",
      "of pandas will change to not sort by default.\n",
      "\n",
      "To accept the future behavior, pass 'sort=False'.\n",
      "\n",
      "To retain the current behavior and silence the warning, pass 'sort=True'.\n",
      "\n",
      "\n"
     ]
    }
   ],
   "source": [
    "#Sydney\n",
    "scraper_preprocess_pipeline('ev0000637/','Sydney',1974,2020,['Sydney Film Prize'])"
   ]
  },
  {
   "cell_type": "code",
   "execution_count": 26,
   "metadata": {},
   "outputs": [
    {
     "name": "stdout",
     "output_type": "stream",
     "text": [
      "data too small for each genre in Beijing\n"
     ]
    }
   ],
   "source": [
    "#Beijing\n",
    "scraper_preprocess_pipeline('ev0002781/','Beijing',2010,2020,['Tiantian Award'])"
   ]
  },
  {
   "cell_type": "code",
   "execution_count": 27,
   "metadata": {},
   "outputs": [
    {
     "name": "stdout",
     "output_type": "stream",
     "text": [
      "data too small for each genre in TokyoF\n"
     ]
    }
   ],
   "source": [
    "#TokyoF\n",
    "scraper_preprocess_pipeline('ev0001602/','TokyoF',2000,2019,['Grand Prize'])"
   ]
  },
  {
   "cell_type": "code",
   "execution_count": 45,
   "metadata": {},
   "outputs": [
    {
     "name": "stderr",
     "output_type": "stream",
     "text": [
      "/anaconda3/lib/python3.7/site-packages/ipykernel_launcher.py:9: RuntimeWarning:\n",
      "\n",
      "Mean of empty slice.\n",
      "\n",
      "/anaconda3/lib/python3.7/site-packages/ipykernel_launcher.py:16: RuntimeWarning:\n",
      "\n",
      "invalid value encountered in less_equal\n",
      "\n"
     ]
    }
   ],
   "source": [
    "#AAFCA\n",
    "scraper_preprocess_pipeline('ev0002165/','AAFCA',2003,2019,['AAFCA Award'])"
   ]
  },
  {
   "cell_type": "code",
   "execution_count": 35,
   "metadata": {},
   "outputs": [
    {
     "name": "stdout",
     "output_type": "stream",
     "text": [
      "data too small for each genre in Brisbane\n"
     ]
    },
    {
     "name": "stderr",
     "output_type": "stream",
     "text": [
      "/anaconda3/lib/python3.7/site-packages/numpy/core/fromnumeric.py:3118: RuntimeWarning:\n",
      "\n",
      "Mean of empty slice.\n",
      "\n",
      "/anaconda3/lib/python3.7/site-packages/numpy/core/_methods.py:85: RuntimeWarning:\n",
      "\n",
      "invalid value encountered in double_scalars\n",
      "\n",
      "/anaconda3/lib/python3.7/site-packages/ipykernel_launcher.py:9: RuntimeWarning:\n",
      "\n",
      "Mean of empty slice.\n",
      "\n",
      "/anaconda3/lib/python3.7/site-packages/ipykernel_launcher.py:16: RuntimeWarning:\n",
      "\n",
      "invalid value encountered in less_equal\n",
      "\n"
     ]
    }
   ],
   "source": [
    "#Brisbane\n",
    "scraper_preprocess_pipeline('ev0000121/','Brisbane',1993,2019,['Audience Award'])"
   ]
  },
  {
   "cell_type": "code",
   "execution_count": 21,
   "metadata": {},
   "outputs": [
    {
     "name": "stdout",
     "output_type": "stream",
     "text": [
      "data too small for each genre in Jerusalem\n"
     ]
    },
    {
     "name": "stderr",
     "output_type": "stream",
     "text": [
      "/Library/Frameworks/Python.framework/Versions/3.7/lib/python3.7/site-packages/pandas/core/frame.py:7116: FutureWarning:\n",
      "\n",
      "Sorting because non-concatenation axis is not aligned. A future version\n",
      "of pandas will change to not sort by default.\n",
      "\n",
      "To accept the future behavior, pass 'sort=False'.\n",
      "\n",
      "To retain the current behavior and silence the warning, pass 'sort=True'.\n",
      "\n",
      "\n"
     ]
    }
   ],
   "source": [
    "#Jerusalem\n",
    "scraper_preprocess_pipeline('ev0000375/','Jerusalem',1984,2020,['In Spirit for Freedom Award'])"
   ]
  },
  {
   "cell_type": "code",
   "execution_count": 22,
   "metadata": {},
   "outputs": [
    {
     "name": "stdout",
     "output_type": "stream",
     "text": [
      "data too small for each genre in Haifa\n"
     ]
    }
   ],
   "source": [
    "#Haifa\n",
    "scraper_preprocess_pipeline('ev0000309/','Haifa',1996,2020,['Golden Anchor Award'])"
   ]
  },
  {
   "cell_type": "code",
   "execution_count": 23,
   "metadata": {},
   "outputs": [],
   "source": [
    "#GrandBell\n",
    "scraper_preprocess_pipeline('ev0000925/','GrandBell',1962,2019,['Grand Bell Award'])"
   ]
  },
  {
   "cell_type": "code",
   "execution_count": 21,
   "metadata": {},
   "outputs": [
    {
     "name": "stdout",
     "output_type": "stream",
     "text": [
      "data too small for each genre in Fajr\n"
     ]
    },
    {
     "name": "stderr",
     "output_type": "stream",
     "text": [
      "/Library/Frameworks/Python.framework/Versions/3.7/lib/python3.7/site-packages/pandas/core/frame.py:7116: FutureWarning:\n",
      "\n",
      "Sorting because non-concatenation axis is not aligned. A future version\n",
      "of pandas will change to not sort by default.\n",
      "\n",
      "To accept the future behavior, pass 'sort=False'.\n",
      "\n",
      "To retain the current behavior and silence the warning, pass 'sort=True'.\n",
      "\n",
      "\n"
     ]
    }
   ],
   "source": [
    "#Fajr\n",
    "scraper_preprocess_pipeline('ev0000747/','Fajr',1985,2020,['Crystal Simorgh'])"
   ]
  },
  {
   "cell_type": "code",
   "execution_count": 22,
   "metadata": {},
   "outputs": [
    {
     "name": "stdout",
     "output_type": "stream",
     "text": [
      "data too small for each genre in Singapore\n"
     ]
    }
   ],
   "source": [
    "#Singapore\n",
    "scraper_preprocess_pipeline('ev0000610/','Singapore',1990,2019,['Silver Screen Award'])"
   ]
  },
  {
   "cell_type": "code",
   "execution_count": 23,
   "metadata": {},
   "outputs": [
    {
     "name": "stdout",
     "output_type": "stream",
     "text": [
      "data too small for each genre in Yamagata\n"
     ]
    }
   ],
   "source": [
    "#Yamagata\n",
    "scraper_preprocess_pipeline('ev0000883/','Yamagata',1989,2016,['Robert and Frances Flaherty Prize'])"
   ]
  },
  {
   "cell_type": "code",
   "execution_count": 24,
   "metadata": {},
   "outputs": [],
   "source": [
    "#Shanghai\n",
    "scraper_preprocess_pipeline('ev0000605/','Shanghai',1993,2020,['Golden Goblet'])"
   ]
  },
  {
   "cell_type": "code",
   "execution_count": null,
   "metadata": {},
   "outputs": [],
   "source": []
  },
  {
   "cell_type": "code",
   "execution_count": 101,
   "metadata": {},
   "outputs": [],
   "source": [
    "combine = addSigs('combinedata.json')"
   ]
  },
  {
   "cell_type": "code",
   "execution_count": 30,
   "metadata": {},
   "outputs": [],
   "source": [
    "toronto = pd.read_csv('TorontoNomineesBoxOffice_updated.csv')"
   ]
  },
  {
   "cell_type": "code",
   "execution_count": 36,
   "metadata": {},
   "outputs": [],
   "source": [
    "    with open('combinedata.json','r') as json_file:\n",
    "        options = json.load(json_file)"
   ]
  },
  {
   "cell_type": "code",
   "execution_count": 90,
   "metadata": {},
   "outputs": [],
   "source": [
    "    with open('combinedata.json','w') as outfile:\n",
    "        json.dump(options,outfile)"
   ]
  },
  {
   "cell_type": "code",
   "execution_count": 89,
   "metadata": {},
   "outputs": [],
   "source": [
    "del options['Cario']"
   ]
  },
  {
   "cell_type": "code",
   "execution_count": 32,
   "metadata": {},
   "outputs": [],
   "source": [
    "new = pd.read_csv('films_dataset.csv')\n",
    "nominees = pd.read_csv('GoldenHorseFestivalNominees.csv')"
   ]
  },
  {
   "cell_type": "code",
   "execution_count": 45,
   "metadata": {},
   "outputs": [],
   "source": [
    "dataset = pd.merge(nominees,new,on='tconst')"
   ]
  },
  {
   "cell_type": "code",
   "execution_count": 31,
   "metadata": {},
   "outputs": [
    {
     "data": {
      "text/plain": [
       "1508.0"
      ]
     },
     "execution_count": 31,
     "metadata": {},
     "output_type": "execute_result"
    }
   ],
   "source": [
    "round(1.508e+03,2)"
   ]
  },
  {
   "cell_type": "code",
   "execution_count": 33,
   "metadata": {},
   "outputs": [
    {
     "data": {
      "text/plain": [
       "'1508.0%'"
      ]
     },
     "execution_count": 33,
     "metadata": {},
     "output_type": "execute_result"
    }
   ],
   "source": [
    "'{:.6}%'.format(round(1.508e+03,2))"
   ]
  },
  {
   "cell_type": "code",
   "execution_count": 46,
   "metadata": {},
   "outputs": [],
   "source": [
    "dataset.set_index('tconst',inplace=True)"
   ]
  },
  {
   "cell_type": "code",
   "execution_count": 37,
   "metadata": {},
   "outputs": [
    {
     "data": {
      "text/plain": [
       "{'Sundance': {'boxoffice': {'Drama': ['$659,491',\n",
       "    '$754,727',\n",
       "    '$659,484',\n",
       "    '$905,996'],\n",
       "   'Documentary': ['$78,168', '$279,523', '$267,866', '$295,371'],\n",
       "   'Comedy': ['$2,206,181', '$2,820,191', '$1,984,729', '$3,951,767'],\n",
       "   'Biography': ['$2,469,243', '$1,105,821', '$1,112,239', '$1,096,968'],\n",
       "   'Crime': ['$2,546,654', '$2,133,397', '$1,737,939', '$2,561,810'],\n",
       "   'Others': ['$6,979,926', '$2,268,814', '$1,597,432', '$2,982,157']},\n",
       "  'percent': {'Drama': ['14.44%', '-0.001061%', '37.38%'],\n",
       "   'Documentary': ['257.6%', '242.7%', '277.9%'],\n",
       "   'Comedy': ['27.83%', '-10.04%', '79.12%'],\n",
       "   'Biography': ['-55.22%', '-54.96%', '-55.57%'],\n",
       "   'Crime': ['-16.23%', '-31.76%', '0.5951%'],\n",
       "   'Others': ['-67.5%', '-77.11%', '-57.28%']},\n",
       "  'pvalue': {'Drama': [0.0855, 0.5109, 0.0168],\n",
       "   'Documentary': [0.0, 0.0, 0.0],\n",
       "   'Comedy': [0.0126, 0.2759, 0.0002],\n",
       "   'Biography': [0.0015, 0.0131, 0.0291],\n",
       "   'Crime': [0.2753, 0.1871, 0.4598],\n",
       "   'Others': [0.0064, 0.0209, 0.1021]},\n",
       "  'pos_sigs': [[0, 'winnersdiff'],\n",
       "   [1, 'contendersdiff'],\n",
       "   [1, 'losersdiff'],\n",
       "   [1, 'winnersdiff'],\n",
       "   [2, 'contendersdiff'],\n",
       "   [2, 'winnersdiff']],\n",
       "  'neg_sigs': [[3, 'contendersdiff'],\n",
       "   [3, 'losersdiff'],\n",
       "   [3, 'winnersdiff'],\n",
       "   [5, 'contendersdiff'],\n",
       "   [5, 'losersdiff']]},\n",
       " 'Tribeca': {'boxoffice': {'Drama': ['$518,491',\n",
       "    '$169,067',\n",
       "    '$136,550',\n",
       "    '$256,273'],\n",
       "   'Documentary': ['$80,864', '$164,475', '$176,575', '$138,697'],\n",
       "   'Comedy': ['$1,613,901', '$306,367', '$339,235', '$249,760'],\n",
       "   'Others': ['$3,139,176', '$239,627', '$234,631', '$253,707']},\n",
       "  'percent': {'Drama': ['-67.39%', '-73.66%', '-50.57%'],\n",
       "   'Documentary': ['103.4%', '118.4%', '71.52%'],\n",
       "   'Comedy': ['-81.02%', '-78.98%', '-84.52%'],\n",
       "   'Others': ['-92.37%', '-92.53%', '-91.92%']},\n",
       "  'pvalue': {'Drama': [0.0, 0.0, 0.0576],\n",
       "   'Documentary': [0.0, 0.0, 0.0172],\n",
       "   'Comedy': [0.0, 0.0, 0.0001],\n",
       "   'Others': [0.0, 0.0, 0.0037]},\n",
       "  'pos_sigs': [[1, 'contendersdiff'], [1, 'losersdiff'], [1, 'winnersdiff']],\n",
       "  'neg_sigs': [[0, 'contendersdiff'],\n",
       "   [0, 'losersdiff'],\n",
       "   [2, 'contendersdiff'],\n",
       "   [2, 'losersdiff'],\n",
       "   [2, 'winnersdiff'],\n",
       "   [3, 'contendersdiff'],\n",
       "   [3, 'losersdiff'],\n",
       "   [3, 'winnersdiff']]},\n",
       " 'Chicago': {'boxoffice': {'Drama': ['$724,093',\n",
       "    '$1,043,886',\n",
       "    '$945,344',\n",
       "    '$1,274,683'],\n",
       "   'Comedy': ['$2,541,838', '$1,775,871', '$1,645,893', '$2,278,061'],\n",
       "   'Documentary': ['$88,315', '$172,351', '$187,031', '$150,331'],\n",
       "   'Biography': ['$2,607,381', '$4,460,614', '$3,694,008', '$5,993,826'],\n",
       "   'Others': ['$3,280,469', '$1,473,434', '$1,580,100', '$1,141,583']},\n",
       "  'percent': {'Drama': ['44.16%', '30.56%', '76.04%'],\n",
       "   'Comedy': ['-30.13%', '-35.25%', '-10.38%'],\n",
       "   'Documentary': ['95.15%', '111.8%', '70.22%'],\n",
       "   'Biography': ['71.08%', '41.68%', '129.9%'],\n",
       "   'Others': ['-55.08%', '-51.83%', '-65.2%']},\n",
       "  'pvalue': {'Drama': [0.0001, 0.0139, 0.0005],\n",
       "   'Comedy': [0.0206, 0.0171, 0.4136],\n",
       "   'Documentary': [0.0, 0.0, 0.009],\n",
       "   'Biography': [0.0021, 0.0759, 0.0022],\n",
       "   'Others': [0.003, 0.0148, 0.062]},\n",
       "  'pos_sigs': [[0, 'contendersdiff'],\n",
       "   [0, 'losersdiff'],\n",
       "   [0, 'winnersdiff'],\n",
       "   [2, 'contendersdiff'],\n",
       "   [2, 'losersdiff'],\n",
       "   [2, 'winnersdiff'],\n",
       "   [3, 'contendersdiff'],\n",
       "   [3, 'winnersdiff']],\n",
       "  'neg_sigs': [[1, 'contendersdiff'],\n",
       "   [1, 'losersdiff'],\n",
       "   [4, 'contendersdiff'],\n",
       "   [4, 'losersdiff']]},\n",
       " 'Berlin': {'boxoffice': {'Drama': ['$730,853',\n",
       "    '$879,422',\n",
       "    '$972,834',\n",
       "    '$802,734'],\n",
       "   'Comedy': ['$2,564,408', '$2,638,861', '$3,291,974', '$2,159,912'],\n",
       "   'Biography': ['$2,645,652', '$5,022,668', '$6,264,746', '$3,024,542'],\n",
       "   'Documentary': ['$89,470', '$98,411', '$89,458', '$102,560'],\n",
       "   'Crime': ['$2,701,116', '$4,876,473', '$5,522,835', '$4,341,553'],\n",
       "   'Others': ['$8,107,793', '$2,043,172', '$2,095,595', '$1,960,794']},\n",
       "  'percent': {'Drama': ['20.33%', '33.11%', '9.835%'],\n",
       "   'Comedy': ['2.903%', '28.37%', '-15.77%'],\n",
       "   'Biography': ['89.85%', '136.8%', '14.32%'],\n",
       "   'Documentary': ['9.993%', '-0.01341%', '14.63%'],\n",
       "   'Crime': ['80.54%', '104.5%', '60.73%'],\n",
       "   'Others': ['-74.8%', '-74.15%', '-75.82%']},\n",
       "  'pvalue': {'Drama': [0.011, 0.0056, 0.1976],\n",
       "   'Comedy': [0.4086, 0.1069, 0.2125],\n",
       "   'Biography': [0.0008, 0.0002, 0.3211],\n",
       "   'Documentary': [0.2945, 0.5303, 0.2502],\n",
       "   'Crime': [0.0028, 0.008, 0.0523],\n",
       "   'Others': [0.0, 0.0, 0.0015]},\n",
       "  'pos_sigs': [[0, 'contendersdiff'],\n",
       "   [0, 'losersdiff'],\n",
       "   [2, 'contendersdiff'],\n",
       "   [2, 'losersdiff'],\n",
       "   [4, 'contendersdiff'],\n",
       "   [4, 'losersdiff']],\n",
       "  'neg_sigs': [[5, 'contendersdiff'], [5, 'losersdiff'], [5, 'winnersdiff']]},\n",
       " 'Rotterdam': {'boxoffice': {'Drama': ['$669,545',\n",
       "    '$154,901',\n",
       "    '$133,179',\n",
       "    '$181,330'],\n",
       "   'Comedy': ['$2,188,238', '$184,425', '$101,191', '$272,861'],\n",
       "   'Others': ['$2,475,828', '$1,762,291', '$2,171,206', '$1,194,353']},\n",
       "  'percent': {'Drama': ['-76.86%', '-80.11%', '-72.92%'],\n",
       "   'Comedy': ['-91.57%', '-95.38%', '-87.53%'],\n",
       "   'Others': ['-28.82%', '-12.3%', '-51.76%']},\n",
       "  'pvalue': {'Drama': [0.0, 0.0, 0.0],\n",
       "   'Comedy': [0.0, 0.0, 0.0007],\n",
       "   'Others': [0.1637, 0.4042, 0.1186]},\n",
       "  'pos_sigs': [],\n",
       "  'neg_sigs': [[0, 'contendersdiff'],\n",
       "   [0, 'losersdiff'],\n",
       "   [0, 'winnersdiff'],\n",
       "   [1, 'contendersdiff'],\n",
       "   [1, 'losersdiff'],\n",
       "   [1, 'winnersdiff']]},\n",
       " 'Cannes': {'boxoffice': {'Drama': ['$683,346',\n",
       "    '$2,403,559',\n",
       "    '$3,059,191',\n",
       "    '$2,131,111'],\n",
       "   'Comedy': ['$2,556,417', '$4,573,720', '$5,849,758', '$4,176,114'],\n",
       "   'Crime': ['$2,641,677', '$6,420,557', '$7,385,809', '$5,898,372'],\n",
       "   'Biography': ['$2,483,060', '$9,808,506', '$9,636,839', '$9,888,618'],\n",
       "   'Others': ['$3,249,820', '$6,087,727', '$12,000,258', '$4,416,794']},\n",
       "  'percent': {'Drama': ['251.7%', '347.7%', '211.9%'],\n",
       "   'Comedy': ['78.91%', '128.8%', '63.36%'],\n",
       "   'Crime': ['143.0%', '179.6%', '123.3%'],\n",
       "   'Biography': ['295.0%', '288.1%', '298.2%'],\n",
       "   'Others': ['87.33%', '269.3%', '35.91%']},\n",
       "  'pvalue': {'Drama': [0.0, 0.0, 0.0],\n",
       "   'Comedy': [0.0, 0.0, 0.0001],\n",
       "   'Crime': [0.0, 0.0, 0.0],\n",
       "   'Biography': [0.0, 0.0, 0.0],\n",
       "   'Others': [0.0, 0.0, 0.0562]},\n",
       "  'pos_sigs': [[0, 'contendersdiff'],\n",
       "   [0, 'losersdiff'],\n",
       "   [0, 'winnersdiff'],\n",
       "   [1, 'contendersdiff'],\n",
       "   [1, 'losersdiff'],\n",
       "   [1, 'winnersdiff'],\n",
       "   [2, 'contendersdiff'],\n",
       "   [2, 'losersdiff'],\n",
       "   [2, 'winnersdiff'],\n",
       "   [3, 'contendersdiff'],\n",
       "   [3, 'losersdiff'],\n",
       "   [3, 'winnersdiff'],\n",
       "   [4, 'contendersdiff'],\n",
       "   [4, 'losersdiff']],\n",
       "  'neg_sigs': []},\n",
       " 'Venice': {'boxoffice': {'Drama': ['$736,296',\n",
       "    '$944,686',\n",
       "    '$747,580',\n",
       "    '$1,100,341'],\n",
       "   'Comedy': ['$2,576,412', '$2,308,705', '$2,233,157', '$2,379,936'],\n",
       "   'Crime': ['$2,744,947', '$6,750,863', '$4,304,653', '$8,628,188'],\n",
       "   'Biography': ['$2,569,463', '$8,770,458', '$7,940,403', '$9,439,856'],\n",
       "   'Others': ['$1,663,725', '$1,513,575', '$1,428,323', '$1,603,477']},\n",
       "  'percent': {'Drama': ['28.3%', '1.533%', '49.44%'],\n",
       "   'Comedy': ['-10.39%', '-13.32%', '-7.626%'],\n",
       "   'Crime': ['145.9%', '56.82%', '214.3%'],\n",
       "   'Biography': ['241.3%', '209.0%', '267.4%'],\n",
       "   'Others': ['-9.025%', '-14.15%', '-3.621%']},\n",
       "  'pvalue': {'Drama': [0.0014, 0.4373, 0.0002],\n",
       "   'Comedy': [0.2352, 0.2688, 0.3611],\n",
       "   'Crime': [0.0, 0.0549, 0.0],\n",
       "   'Biography': [0.0, 0.0, 0.0],\n",
       "   'Others': [0.3364, 0.3177, 0.4676]},\n",
       "  'pos_sigs': [[0, 'contendersdiff'],\n",
       "   [0, 'winnersdiff'],\n",
       "   [2, 'contendersdiff'],\n",
       "   [2, 'winnersdiff'],\n",
       "   [3, 'contendersdiff'],\n",
       "   [3, 'losersdiff'],\n",
       "   [3, 'winnersdiff']],\n",
       "  'neg_sigs': []},\n",
       " 'SXSW': {'boxoffice': {'Comedy': ['$1,729,295',\n",
       "    '$370,308',\n",
       "    '$118,375',\n",
       "    '$384,913'],\n",
       "   'Documentary': ['$83,255', '$92,094', '$93,187', '$91,975'],\n",
       "   'Drama': ['$550,713', '$269,572', '$20,626', '$278,463'],\n",
       "   'Biography': ['$1,876,191', '$271,279', '$8,931', '$278,183'],\n",
       "   'Others': ['$3,267,332', '$2,229,335', '$85,938', '$2,365,424']},\n",
       "  'percent': {'Comedy': ['-78.59%', '-93.15%', '-77.74%'],\n",
       "   'Documentary': ['10.62%', '11.93%', '10.47%'],\n",
       "   'Drama': ['-51.05%', '-96.25%', '-49.44%'],\n",
       "   'Biography': ['-85.54%', '-99.52%', '-85.17%'],\n",
       "   'Others': ['-31.77%', '-97.37%', '-27.6%']},\n",
       "  'pvalue': {'Comedy': [0.0, 0.0256, 0.0],\n",
       "   'Documentary': [0.2531, 0.3727, 0.2776],\n",
       "   'Drama': [0.004, 0.0876, 0.006],\n",
       "   'Biography': [0.0, 0.1046, 0.0],\n",
       "   'Others': [0.0674, 0.0158, 0.1125]},\n",
       "  'pos_sigs': [],\n",
       "  'neg_sigs': [[0, 'contendersdiff'],\n",
       "   [0, 'losersdiff'],\n",
       "   [0, 'winnersdiff'],\n",
       "   [2, 'contendersdiff'],\n",
       "   [2, 'winnersdiff'],\n",
       "   [3, 'contendersdiff'],\n",
       "   [3, 'winnersdiff'],\n",
       "   [4, 'losersdiff']]},\n",
       " 'Seattle': {'boxoffice': {'Drama': ['$665,591',\n",
       "    '$531,397',\n",
       "    '$497,386',\n",
       "    '$594,103'],\n",
       "   'Comedy': ['$2,218,136', '$2,968,045', '$3,005,498', '$2,924,351'],\n",
       "   'Others': ['$2,415,839', '$1,845,960', '$1,247,255', '$2,513,747']},\n",
       "  'percent': {'Drama': ['-20.16%', '-25.27%', '-10.74%'],\n",
       "   'Comedy': ['33.81%', '35.5%', '31.84%'],\n",
       "   'Others': ['-23.59%', '-48.37%', '4.053%']},\n",
       "  'pvalue': {'Drama': [0.1228, 0.1179, 0.3732],\n",
       "   'Comedy': [0.0476, 0.0997, 0.1375],\n",
       "   'Others': [0.098, 0.016, 0.4116]},\n",
       "  'pos_sigs': [[1, 'contendersdiff']],\n",
       "  'neg_sigs': [[2, 'losersdiff']]},\n",
       " 'SanFrancisco': {'boxoffice': {'Documentary': ['$88,524',\n",
       "    '$190,574',\n",
       "    '$95,653',\n",
       "    '$236,136'],\n",
       "   'Drama': ['$733,504', '$4,196,666', '$38,414', '$5,476,128'],\n",
       "   'Others': ['$4,317,581', '$2,069,163', '$1,420,903', '$2,334,361']},\n",
       "  'percent': {'Documentary': ['115.3%', '8.053%', '166.7%'],\n",
       "   'Drama': ['472.1%', '-94.76%', '646.6%'],\n",
       "   'Others': ['-52.08%', '-67.09%', '-45.93%']},\n",
       "  'pvalue': {'Documentary': [0.0002, 0.3945, 0.0],\n",
       "   'Drama': [0.0, 0.0328, 0.0],\n",
       "   'Others': [0.0351, 0.1145, 0.1038]},\n",
       "  'pos_sigs': [[0, 'contendersdiff'],\n",
       "   [0, 'winnersdiff'],\n",
       "   [1, 'contendersdiff'],\n",
       "   [1, 'winnersdiff']],\n",
       "  'neg_sigs': [[1, 'losersdiff'], [2, 'contendersdiff']]},\n",
       " 'Slamdance': {'boxoffice': {'Comedy': ['$1,786,594',\n",
       "    '$54,476',\n",
       "    '$30,652',\n",
       "    '$58,446'],\n",
       "   'Drama': ['$561,345', '$48,443', '$39,911', '$53,563'],\n",
       "   'Others': ['$1,166,043', '$354,063', '$394,303', '$319,572']},\n",
       "  'percent': {'Comedy': ['-96.95%', '-98.28%', '-96.73%'],\n",
       "   'Drama': ['-91.37%', '-92.89%', '-90.46%'],\n",
       "   'Others': ['-69.64%', '-66.18%', '-72.59%']},\n",
       "  'pvalue': {'Comedy': [0.0, 0.0386, 0.0],\n",
       "   'Drama': [0.0068, 0.0769, 0.0377],\n",
       "   'Others': [0.0735, 0.2401, 0.1661]},\n",
       "  'pos_sigs': [],\n",
       "  'neg_sigs': [[0, 'contendersdiff'],\n",
       "   [0, 'losersdiff'],\n",
       "   [0, 'winnersdiff'],\n",
       "   [1, 'contendersdiff'],\n",
       "   [1, 'winnersdiff']]},\n",
       " 'Locarno': {'boxoffice': {'Drama': ['$762,145',\n",
       "    '$205,037',\n",
       "    '$192,544',\n",
       "    '$216,766'],\n",
       "   'Comedy': ['$2,567,459', '$2,810,388', '$3,038,124', '$2,523,008'],\n",
       "   'Others': ['$1,884,343', '$699,341', '$792,866', '$579,948']},\n",
       "  'percent': {'Drama': ['-73.1%', '-74.74%', '-71.56%'],\n",
       "   'Comedy': ['9.462%', '18.33%', '-1.731%'],\n",
       "   'Others': ['-62.89%', '-57.92%', '-69.22%']},\n",
       "  'pvalue': {'Drama': [0.0, 0.0, 0.0],\n",
       "   'Comedy': [0.2749, 0.201, 0.4951],\n",
       "   'Others': [0.0, 0.0042, 0.0019]},\n",
       "  'pos_sigs': [],\n",
       "  'neg_sigs': [[0, 'contendersdiff'],\n",
       "   [0, 'losersdiff'],\n",
       "   [0, 'winnersdiff'],\n",
       "   [2, 'contendersdiff'],\n",
       "   [2, 'losersdiff'],\n",
       "   [2, 'winnersdiff']]},\n",
       " 'Sitges': {'boxoffice': {'Drama': ['$716,941',\n",
       "    '$1,494,529',\n",
       "    '$1,302,971',\n",
       "    '$1,652,884'],\n",
       "   'Action': ['$15,443,599', '$14,684,059', '$13,550,343', '$15,641,420'],\n",
       "   'Comedy': ['$2,506,582', '$1,633,923', '$843,071', '$2,517,817'],\n",
       "   'Horror': ['$1,358,850', '$3,215,641', '$2,720,126', '$3,682,008'],\n",
       "   'Others': ['$683,156', '$1,770,711', '$1,376,587', '$2,099,149']},\n",
       "  'percent': {'Drama': ['108.5%', '81.74%', '130.5%'],\n",
       "   'Action': ['-4.918%', '-12.26%', '1.281%'],\n",
       "   'Comedy': ['-34.81%', '-66.37%', '0.4482%'],\n",
       "   'Horror': ['136.6%', '100.2%', '171.0%'],\n",
       "   'Others': ['159.2%', '101.5%', '207.3%']},\n",
       "  'pvalue': {'Drama': [0.0, 0.0007, 0.0],\n",
       "   'Action': [0.4101, 0.3563, 0.4606],\n",
       "   'Comedy': [0.0276, 0.0011, 0.4671],\n",
       "   'Horror': [0.0, 0.0117, 0.0004],\n",
       "   'Others': [0.0, 0.0014, 0.0]},\n",
       "  'pos_sigs': [[0, 'contendersdiff'],\n",
       "   [0, 'losersdiff'],\n",
       "   [0, 'winnersdiff'],\n",
       "   [3, 'contendersdiff'],\n",
       "   [3, 'losersdiff'],\n",
       "   [3, 'winnersdiff'],\n",
       "   [4, 'contendersdiff'],\n",
       "   [4, 'losersdiff'],\n",
       "   [4, 'winnersdiff']],\n",
       "  'neg_sigs': [[2, 'contendersdiff'], [2, 'losersdiff']]},\n",
       " 'Toronto': {'boxoffice': {'Drama': ['$694,709',\n",
       "    '$1,229,314',\n",
       "    '$1,242,598',\n",
       "    '$1,214,276'],\n",
       "   'Comedy': ['$2,400,755', '$6,420,867', '$4,073,598', '$7,435,902'],\n",
       "   'Others': ['$2,580,868', '$11,176,609', '$9,392,577', '$13,784,040']},\n",
       "  'percent': {'Drama': ['76.95%', '78.87%', '74.79%'],\n",
       "   'Comedy': ['167.5%', '69.68%', '209.7%'],\n",
       "   'Others': ['333.1%', '263.9%', '434.1%']},\n",
       "  'pvalue': {'Drama': [0.0, 0.0008, 0.0018],\n",
       "   'Comedy': [0.0, 0.0561, 0.0],\n",
       "   'Others': [0.0, 0.0, 0.0]},\n",
       "  'pos_sigs': [[0, 'contendersdiff'],\n",
       "   [0, 'losersdiff'],\n",
       "   [0, 'winnersdiff'],\n",
       "   [1, 'contendersdiff'],\n",
       "   [1, 'winnersdiff'],\n",
       "   [2, 'contendersdiff'],\n",
       "   [2, 'losersdiff'],\n",
       "   [2, 'winnersdiff']],\n",
       "  'neg_sigs': []},\n",
       " 'KarlovyVary': {'boxoffice': {'Drama': ['$750,116',\n",
       "    '$208,923',\n",
       "    '$273,838',\n",
       "    '$154,150'],\n",
       "   'Comedy': ['$2,592,278', '$854,653', '$863,329', '$848,193'],\n",
       "   'Others': ['$1,978,287', '$331,991', '$209,586', '$415,742']},\n",
       "  'percent': {'Drama': ['-72.15%', '-63.49%', '-79.45%'],\n",
       "   'Comedy': ['-67.03%', '-66.7%', '-67.28%'],\n",
       "   'Others': ['-83.22%', '-89.41%', '-78.98%']},\n",
       "  'pvalue': {'Drama': [0.0, 0.0002, 0.0],\n",
       "   'Comedy': [0.0, 0.0015, 0.0],\n",
       "   'Others': [0.0, 0.0002, 0.0008]},\n",
       "  'pos_sigs': [],\n",
       "  'neg_sigs': [[0, 'contendersdiff'],\n",
       "   [0, 'losersdiff'],\n",
       "   [0, 'winnersdiff'],\n",
       "   [1, 'contendersdiff'],\n",
       "   [1, 'losersdiff'],\n",
       "   [1, 'winnersdiff'],\n",
       "   [2, 'contendersdiff'],\n",
       "   [2, 'losersdiff'],\n",
       "   [2, 'winnersdiff']]},\n",
       " 'HongKong': {'boxoffice': {'Drama': ['$517,909',\n",
       "    '$515,223',\n",
       "    '$388,437',\n",
       "    '$705,401'],\n",
       "   'Documentary': ['$82,467', '$34,886', '$21,603', '$56,139'],\n",
       "   'Others': ['$2,182,241', '$977,074', '$950,991', '$1,036,691']},\n",
       "  'percent': {'Drama': ['-0.5186%', '-25.0%', '36.2%'],\n",
       "   'Documentary': ['-57.7%', '-73.8%', '-31.93%'],\n",
       "   'Others': ['-55.23%', '-56.42%', '-52.49%']},\n",
       "  'pvalue': {'Drama': [0.5186, 0.2218, 0.1728],\n",
       "   'Documentary': [0.0514, 0.033, 0.3808],\n",
       "   'Others': [0.028, 0.0628, 0.2235]},\n",
       "  'pos_sigs': [],\n",
       "  'neg_sigs': [[1, 'losersdiff'], [2, 'contendersdiff']]},\n",
       " 'Austin': {'boxoffice': {'Comedy': ['$1,826,148',\n",
       "    '$345,544',\n",
       "    '$88,709',\n",
       "    '$462,287'],\n",
       "   'Drama': ['$569,186', '$332,392', '$222,925', '$355,849'],\n",
       "   'Others': ['$1,976,456', '$393,416', '$22,751', '$427,113']},\n",
       "  'percent': {'Comedy': ['-81.08%', '-95.14%', '-74.69%'],\n",
       "   'Drama': ['-41.6%', '-60.83%', '-37.48%'],\n",
       "   'Others': ['-80.09%', '-98.85%', '-78.39%']},\n",
       "  'pvalue': {'Comedy': [0.0014, 0.0059, 0.0204],\n",
       "   'Drama': [0.143, 0.3488, 0.1989],\n",
       "   'Others': [0.0377, 0.2063, 0.0532]},\n",
       "  'pos_sigs': [],\n",
       "  'neg_sigs': [[0, 'contendersdiff'],\n",
       "   [0, 'losersdiff'],\n",
       "   [0, 'winnersdiff'],\n",
       "   [2, 'contendersdiff']]},\n",
       " 'Torino': {'boxoffice': {'Drama': ['$548,376',\n",
       "    '$307,813',\n",
       "    '$166,868',\n",
       "    '$403,158'],\n",
       "   'Comedy': ['$1,721,345', '$1,630,119', '$1,666,272', '$1,598,485'],\n",
       "   'Others': ['$1,702,422', '$198,226', '$200,391', '$195,844']},\n",
       "  'percent': {'Drama': ['-43.87%', '-69.57%', '-26.48%'],\n",
       "   'Comedy': ['-5.3%', '-3.199%', '-7.137%'],\n",
       "   'Others': ['-88.36%', '-88.23%', '-88.5%']},\n",
       "  'pvalue': {'Drama': [0.014, 0.0067, 0.1738],\n",
       "   'Comedy': [0.4525, 0.5021, 0.4603],\n",
       "   'Others': [0.0, 0.0007, 0.0004]},\n",
       "  'pos_sigs': [],\n",
       "  'neg_sigs': [[0, 'contendersdiff'],\n",
       "   [0, 'losersdiff'],\n",
       "   [2, 'contendersdiff'],\n",
       "   [2, 'losersdiff'],\n",
       "   [2, 'winnersdiff']]},\n",
       " 'Marrakech': {'boxoffice': {'Drama': ['$519,400',\n",
       "    '$220,147',\n",
       "    '$132,554',\n",
       "    '$301,002'],\n",
       "   'Comedy': ['$1,609,829', '$4,138,675', '$4,178,748', '$4,058,530'],\n",
       "   'Others': ['$1,357,954', '$2,741,545', '$3,179,164', '$2,241,410']},\n",
       "  'percent': {'Drama': ['-57.62%', '-74.48%', '-42.05%'],\n",
       "   'Comedy': ['157.1%', '159.6%', '152.1%'],\n",
       "   'Others': ['101.9%', '134.1%', '65.06%']},\n",
       "  'pvalue': {'Drama': [0.0016, 0.0018, 0.0862],\n",
       "   'Comedy': [0.0001, 0.0005, 0.0105],\n",
       "   'Others': [0.0331, 0.0439, 0.1806]},\n",
       "  'pos_sigs': [[1, 'contendersdiff'],\n",
       "   [1, 'losersdiff'],\n",
       "   [1, 'winnersdiff'],\n",
       "   [2, 'contendersdiff'],\n",
       "   [2, 'losersdiff']],\n",
       "  'neg_sigs': [[0, 'contendersdiff'], [0, 'losersdiff']]},\n",
       " 'Tokyo': {'boxoffice': {'Drama': ['$661,041',\n",
       "    '$849,907',\n",
       "    '$723,192',\n",
       "    '$983,534'],\n",
       "   'Comedy': ['$2,216,232', '$2,690,185', '$2,188,755', '$3,358,760'],\n",
       "   'Others': ['$1,606,434', '$1,980,684', '$1,938,716', '$2,027,495']},\n",
       "  'percent': {'Drama': ['28.57%', '9.402%', '48.79%'],\n",
       "   'Comedy': ['21.39%', '-1.24%', '51.55%'],\n",
       "   'Others': ['23.3%', '20.68%', '26.21%']},\n",
       "  'pvalue': {'Drama': [0.0405, 0.3218, 0.0226],\n",
       "   'Comedy': [0.1514, 0.5062, 0.0622],\n",
       "   'Others': [0.1881, 0.2634, 0.2392]},\n",
       "  'pos_sigs': [[0, 'contendersdiff'], [0, 'winnersdiff']],\n",
       "  'neg_sigs': []},\n",
       " 'BuenosAires': {'boxoffice': {'Drama': ['$550,012',\n",
       "    '$70,599',\n",
       "    '$74,313',\n",
       "    '$67,241'],\n",
       "   'Comedy': ['$1,677,762', '$153,151', '$163,927', '$131,600'],\n",
       "   'Others': ['$1,048,932', '$82,724', '$66,300', '$93,217']},\n",
       "  'percent': {'Drama': ['-87.16%', '-86.49%', '-87.77%'],\n",
       "   'Comedy': ['-90.87%', '-90.23%', '-92.16%'],\n",
       "   'Others': ['-92.11%', '-93.68%', '-91.11%']},\n",
       "  'pvalue': {'Drama': [0.0, 0.0, 0.0],\n",
       "   'Comedy': [0.0, 0.0, 0.0002],\n",
       "   'Others': [0.0, 0.0, 0.0]},\n",
       "  'pos_sigs': [],\n",
       "  'neg_sigs': [[0, 'contendersdiff'],\n",
       "   [0, 'losersdiff'],\n",
       "   [0, 'winnersdiff'],\n",
       "   [1, 'contendersdiff'],\n",
       "   [1, 'losersdiff'],\n",
       "   [1, 'winnersdiff'],\n",
       "   [2, 'contendersdiff'],\n",
       "   [2, 'losersdiff'],\n",
       "   [2, 'winnersdiff']]},\n",
       " 'Gramado': {'boxoffice': {'Drama': ['$595,293',\n",
       "    '$58,026',\n",
       "    '$39,541',\n",
       "    '$62,819'],\n",
       "   'Comedy': ['$1,948,825', '$3,228,109', '$1,227,392', '$3,689,813'],\n",
       "   'Others': ['$1,278,771', '$73,601', '$33,982', '$79,696']},\n",
       "  'percent': {'Drama': ['-90.25%', '-93.36%', '-89.45%'],\n",
       "   'Comedy': ['65.64%', '-37.02%', '89.34%'],\n",
       "   'Others': ['-94.24%', '-97.34%', '-93.77%']},\n",
       "  'pvalue': {'Drama': [0.0, 0.0068, 0.0],\n",
       "   'Comedy': [0.0594, 0.4532, 0.0312],\n",
       "   'Others': [0.0001, 0.1295, 0.0005]},\n",
       "  'pos_sigs': [[1, 'winnersdiff']],\n",
       "  'neg_sigs': [[0, 'contendersdiff'],\n",
       "   [0, 'losersdiff'],\n",
       "   [0, 'winnersdiff'],\n",
       "   [2, 'contendersdiff'],\n",
       "   [2, 'winnersdiff']]},\n",
       " 'GoldenHorse': {'boxoffice': {'Drama': ['$727,386',\n",
       "    '$1,083,465',\n",
       "    '$1,202,475',\n",
       "    '$973,609'],\n",
       "   'Action': ['$15,741,233', '$25,976,075', '$26,921,478', '$25,087,395'],\n",
       "   'Comedy': ['$2,524,335', '$2,197,348', '$1,792,909', '$2,736,600'],\n",
       "   'Others': ['$1,297,208', '$1,598,332', '$2,004,355', '$1,226,144']},\n",
       "  'percent': {'Drama': ['48.95%', '65.31%', '33.85%'],\n",
       "   'Action': ['65.02%', '71.03%', '59.37%'],\n",
       "   'Comedy': ['-12.95%', '-28.97%', '8.409%'],\n",
       "   'Others': ['23.21%', '54.51%', '-5.478%']},\n",
       "  'pvalue': {'Drama': [0.0054, 0.01, 0.0855],\n",
       "   'Action': [0.0006, 0.0078, 0.0147],\n",
       "   'Comedy': [0.3203, 0.2055, 0.3767],\n",
       "   'Others': [0.1533, 0.0654, 0.4546]},\n",
       "  'pos_sigs': [[0, 'contendersdiff'],\n",
       "   [0, 'losersdiff'],\n",
       "   [1, 'contendersdiff'],\n",
       "   [1, 'losersdiff'],\n",
       "   [1, 'winnersdiff']],\n",
       "  'neg_sigs': []},\n",
       " 'Havana': {'boxoffice': {'Drama': ['$661,610',\n",
       "    '$378,923',\n",
       "    '$478,353',\n",
       "    '$366,771'],\n",
       "   'Comedy': ['$2,187,527', '$1,339,945', '$170,767', '$1,480,246'],\n",
       "   'Others': ['$1,560,951', '$839,257', '$985,015', '$817,822']},\n",
       "  'percent': {'Drama': ['-42.73%', '-27.7%', '-44.56%'],\n",
       "   'Comedy': ['-38.75%', '-92.19%', '-32.33%'],\n",
       "   'Others': ['-46.23%', '-36.9%', '-47.61%']},\n",
       "  'pvalue': {'Drama': [0.0021, 0.3207, 0.0017],\n",
       "   'Comedy': [0.0856, 0.071, 0.1559],\n",
       "   'Others': [0.0608, 0.4486, 0.0609]},\n",
       "  'pos_sigs': [],\n",
       "  'neg_sigs': [[0, 'contendersdiff'], [0, 'winnersdiff']]},\n",
       " 'Cairo': {'boxoffice': {'Drama': ['$578,081',\n",
       "    '$336,545',\n",
       "    '$334,006',\n",
       "    '$338,486'],\n",
       "   'Comedy': ['$1,854,742', '$490,692', '$971,788', '$330,327'],\n",
       "   'Others': ['$1,202,210', '$794,769', '$1,210,912', '$378,626']},\n",
       "  'percent': {'Drama': ['-41.78%', '-42.22%', '-41.45%'],\n",
       "   'Comedy': ['-73.54%', '-47.61%', '-82.19%'],\n",
       "   'Others': ['-33.89%', '0.7238%', '-68.51%']},\n",
       "  'pvalue': {'Drama': [0.016, 0.0813, 0.0587],\n",
       "   'Comedy': [0.0518, 0.4708, 0.0412],\n",
       "   'Others': [0.2388, 0.4499, 0.1275]},\n",
       "  'pos_sigs': [],\n",
       "  'neg_sigs': [[0, 'contendersdiff'], [1, 'winnersdiff']]},\n",
       " 'Rio': {'boxoffice': {'Drama': ['$535,150',\n",
       "    '$173,006',\n",
       "    '$129,934',\n",
       "    '$180,432'],\n",
       "   'Others': ['$1,654,764', '$194,433', '$57,045', '$201,664']},\n",
       "  'percent': {'Drama': ['-67.67%', '-75.72%', '-66.28%'],\n",
       "   'Others': ['-88.25%', '-96.55%', '-87.81%']},\n",
       "  'pvalue': {'Drama': [0.0015, 0.1334, 0.0048],\n",
       "   'Others': [0.0002, 0.2684, 0.0003]},\n",
       "  'pos_sigs': [],\n",
       "  'neg_sigs': [[0, 'contendersdiff'],\n",
       "   [0, 'winnersdiff'],\n",
       "   [1, 'contendersdiff'],\n",
       "   [1, 'winnersdiff']]},\n",
       " 'SaoPaulo': {'boxoffice': {'Drama': ['$703,254',\n",
       "    '$799,429',\n",
       "    '$611,452',\n",
       "    '$1,037,533'],\n",
       "   'Comedy': ['$2,415,670', '$1,226,706', '$843,348', '$1,993,423'],\n",
       "   'Others': ['$3,009,738', '$726,815', '$670,970', '$791,716']},\n",
       "  'percent': {'Drama': ['13.68%', '-13.05%', '47.53%'],\n",
       "   'Comedy': ['-49.22%', '-65.09%', '-17.48%'],\n",
       "   'Others': ['-75.85%', '-77.71%', '-73.69%']},\n",
       "  'pvalue': {'Drama': [0.1739, 0.2667, 0.0224],\n",
       "   'Comedy': [0.0072, 0.0028, 0.3664],\n",
       "   'Others': [0.0, 0.0001, 0.0024]},\n",
       "  'pos_sigs': [[0, 'winnersdiff']],\n",
       "  'neg_sigs': [[1, 'contendersdiff'],\n",
       "   [1, 'losersdiff'],\n",
       "   [2, 'contendersdiff'],\n",
       "   [2, 'losersdiff'],\n",
       "   [2, 'winnersdiff']]},\n",
       " 'AsiaPacific': {'boxoffice': {'Drama': ['$730,877',\n",
       "    '$1,203,238',\n",
       "    '$1,765,208',\n",
       "    '$922,253'],\n",
       "   'Action': ['$15,975,042', '$10,431,533', '$16,411,056', '$6,751,826'],\n",
       "   'Others': ['$1,607,852', '$2,798,465', '$4,311,535', '$2,193,237']},\n",
       "  'percent': {'Drama': ['64.63%', '141.5%', '26.18%'],\n",
       "   'Action': ['-34.7%', '2.729%', '-57.74%'],\n",
       "   'Others': ['74.05%', '168.2%', '36.41%']},\n",
       "  'pvalue': {'Drama': [0.0352, 0.0195, 0.2446],\n",
       "   'Action': [0.1974, 0.4395, 0.1159],\n",
       "   'Others': [0.0377, 0.0209, 0.1945]},\n",
       "  'pos_sigs': [[0, 'contendersdiff'],\n",
       "   [0, 'losersdiff'],\n",
       "   [2, 'contendersdiff'],\n",
       "   [2, 'losersdiff']],\n",
       "  'neg_sigs': []},\n",
       " 'India': {'boxoffice': {'Drama': ['$531,696',\n",
       "    '$225,638',\n",
       "    '$241,964',\n",
       "    '$189,358'],\n",
       "   'Comedy': ['$1,632,747', '$72,675', '$100,329', '$45,021'],\n",
       "   'Others': ['$1,680,633', '$362,482', '$345,372', '$465,144']},\n",
       "  'percent': {'Drama': ['-57.56%', '-54.49%', '-64.39%'],\n",
       "   'Comedy': ['-95.55%', '-93.86%', '-97.24%'],\n",
       "   'Others': ['-78.43%', '-79.45%', '-72.32%']},\n",
       "  'pvalue': {'Drama': [0.0157, 0.0483, 0.101],\n",
       "   'Comedy': [0.0023, 0.0431, 0.0174],\n",
       "   'Others': [0.0258, 0.0353, 0.4383]},\n",
       "  'pos_sigs': [],\n",
       "  'neg_sigs': [[0, 'contendersdiff'],\n",
       "   [0, 'losersdiff'],\n",
       "   [1, 'contendersdiff'],\n",
       "   [1, 'losersdiff'],\n",
       "   [1, 'winnersdiff'],\n",
       "   [2, 'contendersdiff'],\n",
       "   [2, 'losersdiff']]},\n",
       " 'Sydney': {'boxoffice': {'Drama': ['$511,162',\n",
       "    '$1,309,897',\n",
       "    '$1,209,474',\n",
       "    '$2,002,810'],\n",
       "   'Comedy': ['$1,596,051', '$5,746,988', '$4,413,714', '$10,280,118'],\n",
       "   'Others': ['$1,658,551', '$1,888,851', '$1,768,650', '$2,112,081']},\n",
       "  'percent': {'Drama': ['156.26%', '136.61%', '291.82%'],\n",
       "   'Comedy': ['260.08%', '176.54%', '544.1%'],\n",
       "   'Others': ['13.89%', '6.64%', '27.34%']},\n",
       "  'pvalue': {'Drama': [0.0, 0.0, 0.0],\n",
       "   'Comedy': [0.0, 0.0001, 0.0],\n",
       "   'Others': [0.2947, 0.4044, 0.2645]},\n",
       "  'pos_sigs': [[0, 'contendersdiff'],\n",
       "   [0, 'losersdiff'],\n",
       "   [0, 'winnersdiff'],\n",
       "   [1, 'contendersdiff'],\n",
       "   [1, 'losersdiff'],\n",
       "   [1, 'winnersdiff']],\n",
       "  'neg_sigs': []},\n",
       " 'Beijing': {'boxoffice': {'Drama': ['$404,124',\n",
       "    '$627,698',\n",
       "    '$723,022',\n",
       "    '$477,904'],\n",
       "   'Comedy': ['$1,269,019', '$1,603,095', '$1,776,570', '$995,935'],\n",
       "   'Others': ['$1,206,593', '$6,313,380', '$1,982,305', '$14,975,531']},\n",
       "  'percent': {'Drama': ['55.32%', '78.91%', '18.26%'],\n",
       "   'Comedy': ['26.33%', '40.0%', '-21.52%'],\n",
       "   'Others': ['423.2%', '64.29%', '1.141e+03%']},\n",
       "  'pvalue': {'Drama': [0.0375, 0.0235, 0.3166],\n",
       "   'Comedy': [0.2881, 0.2178, 0.5715],\n",
       "   'Others': [0.0017, 0.1266, 0.0011]},\n",
       "  'pos_sigs': [[0, 'contendersdiff'],\n",
       "   [0, 'losersdiff'],\n",
       "   [2, 'contendersdiff'],\n",
       "   [2, 'winnersdiff']],\n",
       "  'neg_sigs': []},\n",
       " 'TokyoF': {'boxoffice': {'Drama': ['$535,175',\n",
       "    '$135,341',\n",
       "    '$165,428',\n",
       "    '$101,242'],\n",
       "   'Action': ['$7,722,305', '$2,027,926', '$2,293,276', '$1,674,125'],\n",
       "   'Others': ['$1,167,702', '$494,125', '$570,184', '$392,712']},\n",
       "  'percent': {'Drama': ['-74.71%', '-69.09%', '-81.08%'],\n",
       "   'Action': ['-73.74%', '-70.3%', '-78.32%'],\n",
       "   'Others': ['-57.68%', '-51.17%', '-66.37%']},\n",
       "  'pvalue': {'Drama': [0.0006, 0.018, 0.0052],\n",
       "   'Action': [0.1341, 0.2739, 0.286],\n",
       "   'Others': [0.075, 0.1967, 0.1546]},\n",
       "  'pos_sigs': [],\n",
       "  'neg_sigs': [[0, 'contendersdiff'], [0, 'losersdiff'], [0, 'winnersdiff']]},\n",
       " 'AAFCA': {'boxoffice': {'Drama': ['$500,944',\n",
       "    '$108,159,145',\n",
       "    'N/A',\n",
       "    '$108,159,145'],\n",
       "   'Biography': ['$1,494,939', '$170,260,776', 'N/A', '$170,260,776'],\n",
       "   'Others': ['$1,516,677', '$289,260,019', 'N/A', '$289,260,019']},\n",
       "  'percent': {'Drama': ['2.149e+04%', 'N/A', '2.149e+04%'],\n",
       "   'Biography': ['1.129e+04%', 'N/A', '1.129e+04%'],\n",
       "   'Others': ['1.897e+04%', 'N/A', '1.897e+04%']},\n",
       "  'pvalue': {'Drama': [0.0, 'N/A', 0.0],\n",
       "   'Biography': [0.0, 'N/A', 0.0],\n",
       "   'Others': [0.0, 'N/A', 0.0]},\n",
       "  'pos_sigs': [[0, 'contendersdiff'],\n",
       "   [0, 'winnersdiff'],\n",
       "   [1, 'contendersdiff'],\n",
       "   [1, 'winnersdiff'],\n",
       "   [2, 'contendersdiff'],\n",
       "   [2, 'winnersdiff']],\n",
       "  'neg_sigs': []},\n",
       " 'Brisbane': {'boxoffice': {'Drama': ['$517,051',\n",
       "    '$1,158,453',\n",
       "    'N/A',\n",
       "    '$1,158,453'],\n",
       "   'Comedy': ['$1,608,373', '$25,863,194', 'N/A', '$25,863,194'],\n",
       "   'Others': ['$1,267,365', '$3,254,096', 'N/A', '$3,254,096']},\n",
       "  'percent': {'Drama': ['124.05%', 'N/A', '124.05%'],\n",
       "   'Comedy': ['1508.03%', 'N/A', '1508.03%'],\n",
       "   'Others': ['156.76%', 'N/A', '156.76%']},\n",
       "  'pvalue': {'Drama': [0.0183, 'N/A', 0.0197],\n",
       "   'Comedy': [0.0001, 'N/A', 0.0002],\n",
       "   'Others': [0.1414, 'N/A', 0.1421]},\n",
       "  'pos_sigs': [[0, 'contendersdiff'],\n",
       "   [0, 'winnersdiff'],\n",
       "   [1, 'contendersdiff'],\n",
       "   [1, 'winnersdiff']],\n",
       "  'neg_sigs': []}}"
      ]
     },
     "execution_count": 37,
     "metadata": {},
     "output_type": "execute_result"
    }
   ],
   "source": [
    "options"
   ]
  },
  {
   "cell_type": "code",
   "execution_count": null,
   "metadata": {},
   "outputs": [],
   "source": []
  }
 ],
 "metadata": {
  "kernelspec": {
   "display_name": "Python 3",
   "language": "python",
   "name": "python3"
  },
  "language_info": {
   "codemirror_mode": {
    "name": "ipython",
    "version": 3
   },
   "file_extension": ".py",
   "mimetype": "text/x-python",
   "name": "python",
   "nbconvert_exporter": "python",
   "pygments_lexer": "ipython3",
   "version": "3.7.3"
  }
 },
 "nbformat": 4,
 "nbformat_minor": 2
}
